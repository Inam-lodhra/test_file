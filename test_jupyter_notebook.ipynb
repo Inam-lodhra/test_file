{
 "cells": [
  {
   "cell_type": "markdown",
   "id": "524cdddc-e0f8-49c2-bd34-48f5202d6121",
   "metadata": {},
   "source": [
    "# Pyython ka Chilla with #baba_Ammar\n",
    "## How to use Jupyter Note Book\n",
    "## Basics of Python\n",
    "### **01- My first program**"
   ]
  },
  {
   "cell_type": "code",
   "execution_count": 3,
   "id": "6a0c6461-13de-47cc-9912-9e9799fdc298",
   "metadata": {},
   "outputs": [
    {
     "name": "stdout",
     "output_type": "stream",
     "text": [
      "5\n",
      "Hello World\n",
      "We are learning python with Ammar\n"
     ]
    }
   ],
   "source": [
    "print(2+3)\n",
    "print(\"Hello World\")\n",
    "print(\"We are learning python with Ammar\")"
   ]
  },
  {
   "cell_type": "markdown",
   "id": "94edbe14-08c1-4a1a-83da-60a7ed7c44e5",
   "metadata": {},
   "source": [
    "### **02- operators**"
   ]
  },
  {
   "cell_type": "code",
   "execution_count": 4,
   "id": "8114f2c5-f0d3-4cb4-97fa-1d96c4253e5d",
   "metadata": {},
   "outputs": [
    {
     "name": "stdout",
     "output_type": "stream",
     "text": [
      "5\n",
      "2\n",
      "6\n",
      "3.0\n",
      "3\n",
      "1\n",
      "8\n",
      "6.5\n"
     ]
    }
   ],
   "source": [
    "print(2+3)\n",
    "print(3-1)\n",
    "print(3*2)\n",
    "print(6/2)\n",
    "print(6//2)\n",
    "print(13%2)\n",
    "print(2**3)\n",
    "\n",
    "print(3**2/2*3/3+6-4)"
   ]
  },
  {
   "cell_type": "markdown",
   "id": "d5cd63ab-cc12-4bcc-9eba-667217e7fa38",
   "metadata": {},
   "source": [
    "*PEMDAS\n",
    "Parenthesis Exponents Multiply Divide Addition Subtraction\n",
    "left to right sequence for M D & A S*"
   ]
  },
  {
   "cell_type": "markdown",
   "id": "cacd02fa-12c0-463c-9fae-c7fe7d4887fc",
   "metadata": {},
   "source": [
    "### **03- strings**"
   ]
  },
  {
   "cell_type": "code",
   "execution_count": 5,
   "id": "4e892b8d-b692-4796-a211-a2d522f5b93b",
   "metadata": {},
   "outputs": [
    {
     "name": "stdout",
     "output_type": "stream",
     "text": [
      "Hello World\n",
      "We are learning python with Ammar\n",
      "Test for single quotes\n",
      "Test for double quotes\n",
      "test for triple quotes\n",
      "what's up\n",
      "   what's up     ?\n"
     ]
    }
   ],
   "source": [
    "print(\"Hello World\")\n",
    "print(\"We are learning python with Ammar\")\n",
    "print('Test for single quotes')\n",
    "print(\"Test for double quotes\")\n",
    "print('''test for triple quotes''')\n",
    "\n",
    "print(\"what's up\")\n",
    "print(\"   what's up     ?\")\n"
   ]
  },
  {
   "cell_type": "markdown",
   "id": "e5a88cc7-9b83-458c-8150-703cb867a77e",
   "metadata": {},
   "source": [
    "### **04- comments**\n",
    "The shortcut key to comments is **Ctrl+/**"
   ]
  },
  {
   "cell_type": "code",
   "execution_count": 6,
   "id": "c4a0d68d-b9b2-4986-b13d-0dcae64a7f8e",
   "metadata": {},
   "outputs": [
    {
     "name": "stdout",
     "output_type": "stream",
     "text": [
      "How are you?\n",
      "We are learning python with Ammar\n",
      "10\n"
     ]
    }
   ],
   "source": [
    "print(\"How are you?\") #press these to comment out (Ctrl+/)\n",
    "print(\"We are learning python with Ammar\") #print a string\n",
    "\n",
    "print(2+8) # print operators function with numbers"
   ]
  },
  {
   "cell_type": "markdown",
   "id": "2f7b11de-485a-4518-915c-f68f3aafd189",
   "metadata": {},
   "source": [
    "### **05- variables**\n",
    "**variables: objects containing speific values**\n",
    "**Rules to assign a variable**\n",
    "    \n",
    "The variable should contain letters, numbers or underscores\n",
    "    \n",
    "Do not start with numbers\n",
    "    \n",
    "Spaces are not allowed\n",
    "    \n",
    "Do not use keywords used in functions (break, media, man, test, etc.)\n",
    "\n",
    "Short and descriptive names for variables\n",
    "\n",
    "Case sensitivity (lowercase, uppercase letters: lowercase letters should be used)"
   ]
  },
  {
   "cell_type": "code",
   "execution_count": 15,
   "id": "b5afc379-2dfb-4985-a04e-30cd3294c36a",
   "metadata": {},
   "outputs": [
    {
     "name": "stdout",
     "output_type": "stream",
     "text": [
      "5\n",
      "We are learning python with Ammar\n",
      "15\n",
      "<class 'int'>\n",
      "<class 'str'>\n"
     ]
    }
   ],
   "source": [
    "x=5 \n",
    "print(x)\n",
    "\n",
    "y=\"We are learning python with Ammar\" \n",
    "print(y)\n",
    "\n",
    "x=x+10 \n",
    "print(x)\n",
    "\n",
    "type(x)\n",
    "print(type(x))\n",
    "\n",
    "print(type(y))\n"
   ]
  },
  {
   "cell_type": "code",
   "execution_count": 7,
   "id": "5454a98f-ccf2-4ed3-b582-35f371d6f009",
   "metadata": {},
   "outputs": [
    {
     "name": "stdout",
     "output_type": "stream",
     "text": [
      "<class 'str'>\n",
      "Mangoes\n"
     ]
    }
   ],
   "source": [
    "fruit_basket= 8\n",
    "fruit_basket= \"Mangoes\"\n",
    "print(type(fruit_basket))\n",
    "print(fruit_basket)"
   ]
  },
  {
   "cell_type": "markdown",
   "id": "b8a014c0-3f80-40ad-94fa-d52717e743e1",
   "metadata": {},
   "source": [
    "### **04-input variables**"
   ]
  },
  {
   "cell_type": "code",
   "execution_count": 18,
   "id": "ee751a66-e3ea-40f2-8c7e-ef1952bc6131",
   "metadata": {},
   "outputs": [
    {
     "name": "stdout",
     "output_type": "stream",
     "text": [
      "Mangoes\n"
     ]
    },
    {
     "name": "stdin",
     "output_type": "stream",
     "text": [
      "what is your favourite fruit Mango\n"
     ]
    },
    {
     "name": "stdout",
     "output_type": "stream",
     "text": [
      "Mango\n"
     ]
    },
    {
     "name": "stdin",
     "output_type": "stream",
     "text": [
      "what is your name?  Inaam\n"
     ]
    },
    {
     "name": "stdout",
     "output_type": "stream",
     "text": [
      "Hello! Inaam\n"
     ]
    },
    {
     "name": "stdin",
     "output_type": "stream",
     "text": [
      "what is your name?  Inaam\n"
     ]
    },
    {
     "name": "stdout",
     "output_type": "stream",
     "text": [
      "Hello! Inaam\n"
     ]
    },
    {
     "name": "stdin",
     "output_type": "stream",
     "text": [
      "What is your name?  Inaam\n",
      "How old are you?  25\n"
     ]
    },
    {
     "name": "stdout",
     "output_type": "stream",
     "text": [
      "Hello! Inaam You are still young\n"
     ]
    }
   ],
   "source": [
    "fruit_basket=\"Mangoes\"\n",
    "print(fruit_basket)\n",
    "\n",
    "fruit_basket=input(\"what is your favourite fruit\")\n",
    "print(fruit_basket)\n",
    "\n",
    "name= input(\"what is your name? \")\n",
    "greetings=\"Hello!\"\n",
    "\n",
    "print(greetings, name)\n",
    "\n",
    "name= input(\"what is your name? \")\n",
    "print(\"Hello!\", name)\n",
    "\n",
    "name= input(\"What is your name? \")\n",
    "age= input(\"How old are you? \")\n",
    "greetings=\"Hello!\"\n",
    "\n",
    "print(greetings, name, \"You are still young\")"
   ]
  },
  {
   "cell_type": "markdown",
   "id": "83d9c87d-520f-49e0-9814-21f68f2cf3e1",
   "metadata": {},
   "source": [
    "### **07-conditional logics**"
   ]
  },
  {
   "cell_type": "markdown",
   "id": "eeb1a71c-a1a9-491c-abaf-4915e3bea9c4",
   "metadata": {},
   "source": [
    "*logical operators are either \"true or flase\" or \"yes or no\" or \"0 or 1\"*\n",
    "\n",
    "*equal to                        ==*\n",
    "\n",
    "*not equal to                    !=*\n",
    "\n",
    "*less than                       <*\n",
    "\n",
    "*greater tham                    >*\n",
    "\n",
    "*less than and equal to          <=*  \n",
    "\n",
    "*greater than and equal to       >=*"
   ]
  },
  {
   "cell_type": "code",
   "execution_count": 23,
   "id": "ca3535a0-2010-45f8-aec4-2e11137a6af3",
   "metadata": {},
   "outputs": [
    {
     "name": "stdout",
     "output_type": "stream",
     "text": [
      "True\n",
      "False\n",
      "True\n",
      "False\n",
      "True\n",
      "False\n",
      "True\n",
      "False\n",
      "True\n",
      "False\n",
      "False\n"
     ]
    },
    {
     "name": "stdin",
     "output_type": "stream",
     "text": [
      "How old is hammad?  6\n"
     ]
    }
   ],
   "source": [
    "print(4==4)\n",
    "print(4!=4)\n",
    "print(4>2)\n",
    "print(6>7)\n",
    "print(3<5)\n",
    "print(4<1)\n",
    "print(3<=5)\n",
    "print(6<=3)\n",
    "print(5>=4)\n",
    "print(4>=7)\n",
    "\n",
    "hammad_age=4\n",
    "age_at_school=5\n",
    "print(hammad_age==age_at_school)\n",
    "\n",
    "age_at_school=5\n",
    "hammad_age=input(\"How old is hammad? \") #input function\n",
    "hammad_age=int(hammad_age)"
   ]
  },
  {
   "cell_type": "markdown",
   "id": "136d32a2-eafe-4969-afcb-1bbd8b0de011",
   "metadata": {},
   "source": [
    "### **08-type-conversion**"
   ]
  },
  {
   "cell_type": "code",
   "execution_count": 26,
   "id": "d8d4b1c3-a2e5-4c47-8713-e6bda699d861",
   "metadata": {},
   "outputs": [
    {
     "name": "stdout",
     "output_type": "stream",
     "text": [
      "<class 'int'>\n",
      "<class 'float'>\n",
      "<class 'str'>\n",
      "20.5 Type of x is: <class 'float'>\n"
     ]
    },
    {
     "name": "stdin",
     "output_type": "stream",
     "text": [
      "What is your age?  6\n"
     ]
    },
    {
     "name": "stdout",
     "output_type": "stream",
     "text": [
      "<class 'str'>\n",
      "<class 'int'>\n",
      "6 <class 'int'>\n"
     ]
    },
    {
     "name": "stdin",
     "output_type": "stream",
     "text": [
      "What is your name?  Inaam\n"
     ]
    },
    {
     "name": "stdout",
     "output_type": "stream",
     "text": [
      "Inaam <class 'str'>\n"
     ]
    }
   ],
   "source": [
    "###### x=10                #integer\n",
    "y=10.5              #float\n",
    "z=\"Hello\"           #string\n",
    "\n",
    "print(type(x))\n",
    "print(type(y))\n",
    "print(type(z))\n",
    "\n",
    "x=x+y\n",
    "print(x,\"Type of x is:\", type(x))\n",
    "\n",
    "age=input(\"What is your age? \")\n",
    "print(type(age))    #type string\n",
    "age=int(age)\n",
    "print(type(age))\n",
    "print(age, type(int(age))) # if age is in decimal than use float(age)\n",
    "\n",
    "name=input(\"What is your name? \")\n",
    "print(name, type(str(name)))"
   ]
  },
  {
   "cell_type": "markdown",
   "id": "9fe9de02-0ede-464b-ae1d-f713ed8eb876",
   "metadata": {},
   "source": [
    "### **09-if-elif-else function**"
   ]
  },
  {
   "cell_type": "code",
   "execution_count": 28,
   "id": "5db67a91-de60-4ad9-a9b1-d0fc3dabf1b5",
   "metadata": {},
   "outputs": [
    {
     "name": "stdout",
     "output_type": "stream",
     "text": [
      "You should take care of Ramish, he is still a baby.\n"
     ]
    }
   ],
   "source": [
    "ramish_age=2\n",
    "required_age_at_school=6\n",
    "#question: can ramish go to school? \n",
    "\n",
    "if ramish_age==required_age_at_school:      \n",
    "    print(\"Ramish can join the school\")\n",
    "elif ramish_age > required_age_at_school:\n",
    "    print(\"Ramish should join higher secondary school\")\n",
    "elif ramish_age<=2:\n",
    "    print(\"You should take care of Ramish, he is still a baby.\")\n",
    "else:                                        \n",
    "    print(\"Ramish can not go to school\") "
   ]
  },
  {
   "cell_type": "markdown",
   "id": "d3b0a62e-f68c-40e4-b56d-39cc68dbe548",
   "metadata": {},
   "source": [
    "### **10-defining functions**"
   ]
  },
  {
   "cell_type": "code",
   "execution_count": 39,
   "id": "8fc5e4d6-d847-477d-bb52-147d8e936e01",
   "metadata": {},
   "outputs": [
    {
     "name": "stdout",
     "output_type": "stream",
     "text": [
      "We are learning with Ammar\n",
      "We are learning with Ammar\n",
      "We are learning with Ammar Tufail\n",
      "We are learning with Ammar Tufail\n",
      "We are learning with Ammar Tufail\n",
      "We are learning python with Ammar\n",
      "We are learning python with Ammar\n",
      "We are learning python with Ammar\n",
      "Ramish can join the school\n",
      "Ramish should go to higher school\n",
      "Ramish is still a baby\n",
      "38\n"
     ]
    }
   ],
   "source": [
    "#defining a function \n",
    "\n",
    "def print_test():\n",
    "     print(\"We are learning with Ammar\")\n",
    "     print(\"We are learning with Ammar\")\n",
    "print_test()\n",
    "\n",
    "def print_test():\n",
    "    text=\"We are learning with Ammar Tufail\"\n",
    "    print(text)\n",
    "    print(text)\n",
    "    print(text)\n",
    "\n",
    "print_test()\n",
    "\n",
    "def print_test(text):\n",
    "    print(text)\n",
    "    print(text)\n",
    "    print(text)\n",
    "\n",
    "print_test(\"We are learning python with Ammar\")\n",
    "\n",
    "#4 definning a function with if, elif and else function\n",
    "def school_calculator(age, text):\n",
    "    if age==5: \n",
    "        print(\"Ramish can join the school\")\n",
    "    elif age>5:\n",
    "        print(\"Ramish should go to higher school\")\n",
    "    else:\n",
    "        print(\"Ramish is still a baby\")\n",
    "\n",
    "school_calculator(5, \"Ramish\")          # Ramish can join the school\n",
    "school_calculator(15, \"Ramish\")         # Ramish should go to higher school\n",
    "school_calculator(2, \"Ramish\")          # Ramish is still a baby\n",
    "\n",
    "# school_calculator(2)\n",
    "\n",
    "# defining a function of future\n",
    "\n",
    "def future_age(age):\n",
    "    new_age=age+20\n",
    "    return new_age\n",
    "    print(new_age)\n",
    "\n",
    "future_predicted_age=future_age(18)\n",
    "print(future_predicted_age)\n"
   ]
  },
  {
   "cell_type": "markdown",
   "id": "0e2adacf-b537-4dfa-807b-f1d5b8a52b62",
   "metadata": {},
   "source": [
    "### **11-loops**"
   ]
  },
  {
   "cell_type": "code",
   "execution_count": 41,
   "id": "5cefda32-1f2b-4223-abb7-680d9709ae2d",
   "metadata": {},
   "outputs": [
    {
     "name": "stdout",
     "output_type": "stream",
     "text": [
      "0\n",
      "1\n",
      "2\n",
      "3\n",
      "4\n",
      "5\n",
      "6\n",
      "7\n",
      "8\n",
      "9\n",
      "Mon\n",
      "Tue\n",
      "Wed\n",
      "Thu\n"
     ]
    }
   ],
   "source": [
    "# while loops\n",
    "x=0\n",
    "while (x<5):\n",
    "    print(x)\n",
    "    x=x+1\n",
    "\n",
    "# for loops\n",
    "for x in range(5,10):\n",
    "    print(x)\n",
    "\n",
    "#array\n",
    "days= [\"Mon\", \"Tue\", \"Wed\", \"Thu\", \"Fri\", \"Sat\", \"Sun\"]\n",
    "\n",
    "for d in days:\n",
    "    if(d==\"Fri\"):break  #loop stops\n",
    "    if(d==\"Fri\"): continue #skips perticular component jesy idhr \"Fri\" ko skip kr dia\n",
    "    print(d)"
   ]
  },
  {
   "cell_type": "markdown",
   "id": "decdd01a-df2e-4c4b-96c5-11dd8940e2ce",
   "metadata": {},
   "source": [
    "### **12-import-lobraries**"
   ]
  },
  {
   "cell_type": "code",
   "execution_count": 42,
   "id": "e38be2d4-bf0f-4f5c-a00a-e4852ddadf39",
   "metadata": {},
   "outputs": [
    {
     "name": "stdout",
     "output_type": "stream",
     "text": [
      "The value of pi is  3.141592653589793\n",
      "300\n"
     ]
    }
   ],
   "source": [
    "# if you want to print the value of pi          \n",
    "# code will not run if there is any extra space between the start and line of code\n",
    "\n",
    "import math\n",
    "print(\"The value of pi is \", math.pi)\n",
    "\n",
    "import statistics\n",
    "\n",
    "x=[150,250,350,450]\n",
    "print(statistics.mean(x))\n",
    "\n",
    "# pandas, numpy are two major libraries"
   ]
  }
 ],
 "metadata": {
  "kernelspec": {
   "display_name": "Python 3 (ipykernel)",
   "language": "python",
   "name": "python3"
  },
  "language_info": {
   "codemirror_mode": {
    "name": "ipython",
    "version": 3
   },
   "file_extension": ".py",
   "mimetype": "text/x-python",
   "name": "python",
   "nbconvert_exporter": "python",
   "pygments_lexer": "ipython3",
   "version": "3.12.7"
  }
 },
 "nbformat": 4,
 "nbformat_minor": 5
}
