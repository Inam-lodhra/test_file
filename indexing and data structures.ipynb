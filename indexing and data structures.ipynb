{
 "cells": [
  {
   "cell_type": "markdown",
   "id": "bb3ded7d-6c20-4031-a966-04c6d1c11cdb",
   "metadata": {},
   "source": [
    "# -Indexing"
   ]
  },
  {
   "cell_type": "code",
   "execution_count": 51,
   "id": "21468feb-d563-4455-b4cd-7f7d096407bd",
   "metadata": {},
   "outputs": [
    {
     "data": {
      "text/plain": [
       "'Samosa Pakora'"
      ]
     },
     "execution_count": 51,
     "metadata": {},
     "output_type": "execute_result"
    }
   ],
   "source": [
    "# make a string (indexing is total number of characters written in a string. it always starts from 0. if a string has 13 characters, the last character will have index 12 and brackets [] will be used to index a charactery)\n",
    "\n",
    "a= \"Samosa Pakora\"\n",
    "a"
   ]
  },
  {
   "cell_type": "code",
   "execution_count": 52,
   "id": "41862c12-8f57-438f-b509-629e9893201e",
   "metadata": {},
   "outputs": [
    {
     "data": {
      "text/plain": [
       "13"
      ]
     },
     "execution_count": 52,
     "metadata": {},
     "output_type": "execute_result"
    }
   ],
   "source": [
    "len(a)"
   ]
  },
  {
   "cell_type": "code",
   "execution_count": 53,
   "id": "07098844-62ca-4de0-afd7-4a18fc6f5df7",
   "metadata": {},
   "outputs": [
    {
     "data": {
      "text/plain": [
       "'S'"
      ]
     },
     "execution_count": 53,
     "metadata": {},
     "output_type": "execute_result"
    }
   ],
   "source": [
    "a[0]"
   ]
  },
  {
   "cell_type": "code",
   "execution_count": 54,
   "id": "8819e0e4-0ef6-4592-a522-e6fedfcf25c3",
   "metadata": {},
   "outputs": [
    {
     "data": {
      "text/plain": [
       "'m'"
      ]
     },
     "execution_count": 54,
     "metadata": {},
     "output_type": "execute_result"
    }
   ],
   "source": [
    "a[2]"
   ]
  },
  {
   "cell_type": "code",
   "execution_count": 55,
   "id": "29c7924e-45ff-4005-9295-396d9f7bd2a7",
   "metadata": {},
   "outputs": [
    {
     "data": {
      "text/plain": [
       "'Sam'"
      ]
     },
     "execution_count": 55,
     "metadata": {},
     "output_type": "execute_result"
    }
   ],
   "source": [
    "# the last index is exclusive (will not be considered when used in ratio to index more than one character at once)\n",
    "a[0:3]"
   ]
  },
  {
   "cell_type": "code",
   "execution_count": 56,
   "id": "f3472831-afca-436f-8831-706bcd9d4a65",
   "metadata": {},
   "outputs": [
    {
     "data": {
      "text/plain": [
       "'Samosa'"
      ]
     },
     "execution_count": 56,
     "metadata": {},
     "output_type": "execute_result"
    }
   ],
   "source": [
    "a[0:6]"
   ]
  },
  {
   "cell_type": "code",
   "execution_count": 57,
   "id": "4b1e4f46-8c77-4a8b-950f-5df47930c8e2",
   "metadata": {},
   "outputs": [
    {
     "data": {
      "text/plain": [
       "'Samosa Pakora'"
      ]
     },
     "execution_count": 57,
     "metadata": {},
     "output_type": "execute_result"
    }
   ],
   "source": [
    "a[0:13]"
   ]
  },
  {
   "cell_type": "code",
   "execution_count": 58,
   "id": "853324ff-b215-4d7f-bd65-3ea54634ea5c",
   "metadata": {},
   "outputs": [
    {
     "data": {
      "text/plain": [
       "'a'"
      ]
     },
     "execution_count": 58,
     "metadata": {},
     "output_type": "execute_result"
    }
   ],
   "source": [
    "a[-1]"
   ]
  },
  {
   "cell_type": "code",
   "execution_count": 59,
   "id": "d11af4e8-d8d8-45c6-bc02-80fc88f6cdf9",
   "metadata": {},
   "outputs": [
    {
     "data": {
      "text/plain": [
       "''"
      ]
     },
     "execution_count": 59,
     "metadata": {},
     "output_type": "execute_result"
    }
   ],
   "source": [
    "a[-1:-6] # this will not index any characters as we can move from left to right in english. "
   ]
  },
  {
   "cell_type": "code",
   "execution_count": 60,
   "id": "d51e1e5c-6cfb-4f64-ad13-8d596486a5c0",
   "metadata": {},
   "outputs": [
    {
     "data": {
      "text/plain": [
       "' Pakora'"
      ]
     },
     "execution_count": 60,
     "metadata": {},
     "output_type": "execute_result"
    }
   ],
   "source": [
    "a[-7:13]"
   ]
  },
  {
   "cell_type": "code",
   "execution_count": 61,
   "id": "20e56379-bff0-4cff-8ff1-989117921fc1",
   "metadata": {},
   "outputs": [
    {
     "data": {
      "text/plain": [
       "'biryani'"
      ]
     },
     "execution_count": 61,
     "metadata": {},
     "output_type": "execute_result"
    }
   ],
   "source": [
    "food= \"biryani\"\n",
    "food"
   ]
  },
  {
   "cell_type": "markdown",
   "id": "3993c524-5b2c-4fef-a3f6-f466bab0f2a8",
   "metadata": {},
   "source": [
    "## String methods"
   ]
  },
  {
   "cell_type": "code",
   "execution_count": 63,
   "id": "89195957-3ec5-4457-a7fd-2567bc7ab575",
   "metadata": {},
   "outputs": [
    {
     "data": {
      "text/plain": [
       "'biryani'"
      ]
     },
     "execution_count": 63,
     "metadata": {},
     "output_type": "execute_result"
    }
   ],
   "source": [
    "food"
   ]
  },
  {
   "cell_type": "code",
   "execution_count": 64,
   "id": "cd054361-fdd8-4bec-9e0c-8116eca51159",
   "metadata": {},
   "outputs": [
    {
     "data": {
      "text/plain": [
       "7"
      ]
     },
     "execution_count": 64,
     "metadata": {},
     "output_type": "execute_result"
    }
   ],
   "source": [
    "len(food)"
   ]
  },
  {
   "cell_type": "code",
   "execution_count": 65,
   "id": "ff07ca1c-5469-4122-a3b3-53fead3d767a",
   "metadata": {},
   "outputs": [
    {
     "data": {
      "text/plain": [
       "'Biryani'"
      ]
     },
     "execution_count": 65,
     "metadata": {},
     "output_type": "execute_result"
    }
   ],
   "source": [
    "#capitalize 1st character of each word\n",
    "food.capitalize()"
   ]
  },
  {
   "cell_type": "code",
   "execution_count": 66,
   "id": "82134a89-0959-4c31-a294-e1300c3f8ed2",
   "metadata": {},
   "outputs": [
    {
     "data": {
      "text/plain": [
       "'BIRYANI'"
      ]
     },
     "execution_count": 66,
     "metadata": {},
     "output_type": "execute_result"
    }
   ],
   "source": [
    "#uppercasd letters\n",
    "food.upper()"
   ]
  },
  {
   "cell_type": "code",
   "execution_count": 67,
   "id": "cbd8ef5a-8681-4e96-b5b2-233f1bb6ea54",
   "metadata": {},
   "outputs": [
    {
     "data": {
      "text/plain": [
       "'biryani'"
      ]
     },
     "execution_count": 67,
     "metadata": {},
     "output_type": "execute_result"
    }
   ],
   "source": [
    "#lowercasd letters\n",
    "food.lower()"
   ]
  },
  {
   "cell_type": "code",
   "execution_count": 84,
   "id": "5c58d077-7164-435e-b4af-dbf96e84af3a",
   "metadata": {},
   "outputs": [
    {
     "data": {
      "text/plain": [
       "'Shiryani'"
      ]
     },
     "execution_count": 84,
     "metadata": {},
     "output_type": "execute_result"
    }
   ],
   "source": [
    "#replace\n",
    "food.replace(\"b\", \"Sh\")"
   ]
  },
  {
   "cell_type": "code",
   "execution_count": 96,
   "id": "1fd959e1-0d30-4adc-bcb9-fabe2f3fd756",
   "metadata": {},
   "outputs": [
    {
     "data": {
      "text/plain": [
       "'baba_ammar with Dr Ammar Tufail'"
      ]
     },
     "execution_count": 96,
     "metadata": {},
     "output_type": "execute_result"
    }
   ],
   "source": [
    "#counting a specific alphabet in a string\n",
    "name= \"baba_ammar with Dr Ammar Tufail\"\n",
    "name"
   ]
  },
  {
   "cell_type": "code",
   "execution_count": 94,
   "id": "d6d51474-bdbf-48d2-9023-9a1e5905ce5f",
   "metadata": {},
   "outputs": [
    {
     "data": {
      "text/plain": [
       "6"
      ]
     },
     "execution_count": 94,
     "metadata": {},
     "output_type": "execute_result"
    }
   ],
   "source": [
    "name.count(\"a\")"
   ]
  },
  {
   "cell_type": "markdown",
   "id": "a8c841af-5cb0-4e75-b012-b8f425abb185",
   "metadata": {},
   "source": [
    "### -finding an index number in string"
   ]
  },
  {
   "cell_type": "code",
   "execution_count": 99,
   "id": "bf4ab156-e630-4a5a-89a1-25556882dfa4",
   "metadata": {},
   "outputs": [
    {
     "data": {
      "text/plain": [
       "'baba_ammar with Dr Ammar Tufail'"
      ]
     },
     "execution_count": 99,
     "metadata": {},
     "output_type": "execute_result"
    }
   ],
   "source": [
    "name= \"baba_ammar with Dr Ammar Tufail\"\n",
    "name"
   ]
  },
  {
   "cell_type": "code",
   "execution_count": 103,
   "id": "8ad151d7-4ec1-4e9a-b687-7a881506aca3",
   "metadata": {},
   "outputs": [
    {
     "data": {
      "text/plain": [
       "25"
      ]
     },
     "execution_count": 103,
     "metadata": {},
     "output_type": "execute_result"
    }
   ],
   "source": [
    "name.find(\"T\")"
   ]
  },
  {
   "cell_type": "code",
   "execution_count": 105,
   "id": "111c99b4-125b-4f43-8998-1e31892e4dc4",
   "metadata": {},
   "outputs": [
    {
     "data": {
      "text/plain": [
       "'I love samosa, pakora, raita, biryani and karahi'"
      ]
     },
     "execution_count": 105,
     "metadata": {},
     "output_type": "execute_result"
    }
   ],
   "source": [
    "### -how to split a string\n",
    "food= \"I love samosa, pakora, raita, biryani and karahi\"\n",
    "food"
   ]
  },
  {
   "cell_type": "code",
   "execution_count": 107,
   "id": "ed14d819-d837-4fd0-bba1-43d8ebf55969",
   "metadata": {},
   "outputs": [
    {
     "data": {
      "text/plain": [
       "['I love samosa', ' pakora', ' raita', ' biryani and karahi']"
      ]
     },
     "execution_count": 107,
     "metadata": {},
     "output_type": "execute_result"
    }
   ],
   "source": [
    "food.split(\",\")"
   ]
  },
  {
   "cell_type": "markdown",
   "id": "6bb20a40-3859-42d2-93eb-e6c4502e5ba5",
   "metadata": {},
   "source": [
    "# Basic data structures in Python\n",
    "**1- Tuple**\n",
    "\n",
    "**2- List**\n",
    "\n",
    "**3- Dictionaries**\n",
    "\n",
    "**4- Set**"
   ]
  },
  {
   "cell_type": "markdown",
   "id": "520de051-88ec-4e5d-9293-82b4e453b96b",
   "metadata": {},
   "source": [
    "## Tuple\n",
    "\n",
    "- ordered collection of element (integers, float number, string, boolean operators T/F)\n",
    "- enclosed in paranthesis ()\n",
    "- different kind of elements can be stored\n",
    "- once elements are stored, you can not change them (unmutatable)"
   ]
  },
  {
   "cell_type": "code",
   "execution_count": 125,
   "id": "129b0255-11e9-4e72-aad3-7a41553ca027",
   "metadata": {},
   "outputs": [
    {
     "data": {
      "text/plain": [
       "(1, 'python', True, 2.5)"
      ]
     },
     "execution_count": 125,
     "metadata": {},
     "output_type": "execute_result"
    }
   ],
   "source": [
    "tup1 = (1, \"python\", True, 2.5)\n",
    "tup1"
   ]
  },
  {
   "cell_type": "code",
   "execution_count": 127,
   "id": "6280e962-1723-4b68-a82e-f3fdeed8891d",
   "metadata": {},
   "outputs": [
    {
     "data": {
      "text/plain": [
       "tuple"
      ]
     },
     "execution_count": 127,
     "metadata": {},
     "output_type": "execute_result"
    }
   ],
   "source": [
    "# type of a tuple\n",
    "type(tup1)"
   ]
  },
  {
   "cell_type": "markdown",
   "id": "4782d988-3d49-4603-a521-400897cbe8b9",
   "metadata": {},
   "source": [
    "### -Indexing in tuple\n",
    "-each element in a tuple is a single index"
   ]
  },
  {
   "cell_type": "code",
   "execution_count": 134,
   "id": "6760868f-24ed-415c-8e29-c2b08aa1bc7b",
   "metadata": {},
   "outputs": [
    {
     "data": {
      "text/plain": [
       "'python'"
      ]
     },
     "execution_count": 134,
     "metadata": {},
     "output_type": "execute_result"
    }
   ],
   "source": [
    "tup1[1]"
   ]
  },
  {
   "cell_type": "code",
   "execution_count": 140,
   "id": "3aea0d0d-4ed8-4b8d-993a-9f1b3dddecbe",
   "metadata": {},
   "outputs": [
    {
     "data": {
      "text/plain": [
       "True"
      ]
     },
     "execution_count": 140,
     "metadata": {},
     "output_type": "execute_result"
    }
   ],
   "source": [
    "tup1[2]"
   ]
  },
  {
   "cell_type": "code",
   "execution_count": 144,
   "id": "a78fd016-b7db-4ba8-b3cb-774cffa4400c",
   "metadata": {},
   "outputs": [
    {
     "data": {
      "text/plain": [
       "(1, 'python', True, 2.5)"
      ]
     },
     "execution_count": 144,
     "metadata": {},
     "output_type": "execute_result"
    }
   ],
   "source": [
    "tup1[0:5]"
   ]
  },
  {
   "cell_type": "code",
   "execution_count": 148,
   "id": "935e959c-1b80-4068-8d23-c2c66b92189a",
   "metadata": {},
   "outputs": [
    {
     "data": {
      "text/plain": [
       "(1, 'python', True)"
      ]
     },
     "execution_count": 148,
     "metadata": {},
     "output_type": "execute_result"
    }
   ],
   "source": [
    "#last element in index is exclusive\n",
    "tup1[0:3]"
   ]
  },
  {
   "cell_type": "code",
   "execution_count": 152,
   "id": "cd74440b-459b-421f-aecc-115744954bb5",
   "metadata": {},
   "outputs": [
    {
     "data": {
      "text/plain": [
       "4"
      ]
     },
     "execution_count": 152,
     "metadata": {},
     "output_type": "execute_result"
    }
   ],
   "source": [
    "#count of elements in tuple\n",
    "len(tup1)"
   ]
  },
  {
   "cell_type": "code",
   "execution_count": 156,
   "id": "97314ccb-4bb1-4aa1-a26e-c45a08f0627b",
   "metadata": {},
   "outputs": [
    {
     "data": {
      "text/plain": [
       "(2, 'Baba Ammar', 3.4, False)"
      ]
     },
     "execution_count": 156,
     "metadata": {},
     "output_type": "execute_result"
    }
   ],
   "source": [
    "tup2= (2, \"Baba Ammar\", 3.4, False)\n",
    "tup2"
   ]
  },
  {
   "cell_type": "code",
   "execution_count": 158,
   "id": "7eca4b06-9396-47aa-a92c-ec1e0c3fabc4",
   "metadata": {},
   "outputs": [
    {
     "data": {
      "text/plain": [
       "(1, 'python', True, 2.5, 2, 'Baba Ammar', 3.4, False)"
      ]
     },
     "execution_count": 158,
     "metadata": {},
     "output_type": "execute_result"
    }
   ],
   "source": [
    "#concatinate (two add two or more than two tuples)\n",
    "tup1 + tup2"
   ]
  },
  {
   "cell_type": "code",
   "execution_count": 164,
   "id": "0af364d1-5d0b-48be-a9ce-9f10cf9a5826",
   "metadata": {},
   "outputs": [
    {
     "data": {
      "text/plain": [
       "(1, 'python', True, 2.5, 1, 'python', True, 2.5, 2, 'Baba Ammar', 3.4, False)"
      ]
     },
     "execution_count": 164,
     "metadata": {},
     "output_type": "execute_result"
    }
   ],
   "source": [
    "#concatinate and repeat\n",
    "tup1*2 + tup2"
   ]
  },
  {
   "cell_type": "code",
   "execution_count": 166,
   "id": "40aa843b-033f-41bb-bd08-34732fdf0a54",
   "metadata": {},
   "outputs": [
    {
     "data": {
      "text/plain": [
       "(20, 50, 30, 60, 79, 85)"
      ]
     },
     "execution_count": 166,
     "metadata": {},
     "output_type": "execute_result"
    }
   ],
   "source": [
    "tup3= (20, 50, 30, 60, 79, 85)\n",
    "tup3"
   ]
  },
  {
   "cell_type": "code",
   "execution_count": 168,
   "id": "0de8c757-254e-4fc3-add8-b1873487d319",
   "metadata": {},
   "outputs": [
    {
     "data": {
      "text/plain": [
       "20"
      ]
     },
     "execution_count": 168,
     "metadata": {},
     "output_type": "execute_result"
    }
   ],
   "source": [
    "#minimum value\n",
    "min(tup3)"
   ]
  },
  {
   "cell_type": "code",
   "execution_count": 170,
   "id": "87653270-a4ad-4f0b-aad0-2eb76181ad3a",
   "metadata": {},
   "outputs": [
    {
     "data": {
      "text/plain": [
       "85"
      ]
     },
     "execution_count": 170,
     "metadata": {},
     "output_type": "execute_result"
    }
   ],
   "source": [
    "#maximum value\n",
    "max(tup3)"
   ]
  },
  {
   "cell_type": "code",
   "execution_count": 174,
   "id": "83ccfe51-7b06-4f51-8145-eeda3dff349f",
   "metadata": {},
   "outputs": [
    {
     "data": {
      "text/plain": [
       "(20, 50, 30, 60, 79, 85, 20, 50, 30, 60, 79, 85)"
      ]
     },
     "execution_count": 174,
     "metadata": {},
     "output_type": "execute_result"
    }
   ],
   "source": [
    "tup3*2 (this multiplication is the repeatition column)"
   ]
  },
  {
   "cell_type": "markdown",
   "id": "79b3b736-d24e-4990-9d8c-cbc53a5b7714",
   "metadata": {},
   "source": [
    "---"
   ]
  },
  {
   "cell_type": "markdown",
   "id": "943ccec1-5036-4ee6-927d-dfca326db969",
   "metadata": {},
   "source": [
    "## 2-List\n",
    "- ordered collection\n",
    "- enclosed in Square brackets []\n",
    "- mutatable"
   ]
  },
  {
   "cell_type": "code",
   "execution_count": 181,
   "id": "f0c33a99-1233-4211-8adf-3f2838130774",
   "metadata": {},
   "outputs": [
    {
     "data": {
      "text/plain": [
       "[2, 'Baba Ammar', False]"
      ]
     },
     "execution_count": 181,
     "metadata": {},
     "output_type": "execute_result"
    }
   ],
   "source": [
    "list1= [2, \"Baba Ammar\", False]\n",
    "list1"
   ]
  },
  {
   "cell_type": "code",
   "execution_count": 183,
   "id": "fd2137ec-4357-4b0f-86a8-71537b387e43",
   "metadata": {},
   "outputs": [
    {
     "data": {
      "text/plain": [
       "list"
      ]
     },
     "execution_count": 183,
     "metadata": {},
     "output_type": "execute_result"
    }
   ],
   "source": [
    "type(list1)"
   ]
  },
  {
   "cell_type": "code",
   "execution_count": 185,
   "id": "07c31ed1-8cee-42b3-b007-55720fa8ba43",
   "metadata": {},
   "outputs": [
    {
     "data": {
      "text/plain": [
       "3"
      ]
     },
     "execution_count": 185,
     "metadata": {},
     "output_type": "execute_result"
    }
   ],
   "source": [
    "len(list1)"
   ]
  },
  {
   "cell_type": "code",
   "execution_count": 187,
   "id": "7a064f7b-40b9-4d0b-bd6c-d32e1efd938a",
   "metadata": {},
   "outputs": [
    {
     "data": {
      "text/plain": [
       "False"
      ]
     },
     "execution_count": 187,
     "metadata": {},
     "output_type": "execute_result"
    }
   ],
   "source": [
    "list1[2]"
   ]
  },
  {
   "cell_type": "code",
   "execution_count": 189,
   "id": "94b4488c-b68a-44dd-b8da-b7c4571224eb",
   "metadata": {},
   "outputs": [
    {
     "data": {
      "text/plain": [
       "[3, 5, 'Ammar', 'Codanics', 478, 53.2, False]"
      ]
     },
     "execution_count": 189,
     "metadata": {},
     "output_type": "execute_result"
    }
   ],
   "source": [
    "list2= [3, 5, \"Ammar\", \"Codanics\", 478, 53.2, False]\n",
    "list2"
   ]
  },
  {
   "cell_type": "code",
   "execution_count": 191,
   "id": "aa713964-ae71-41c9-80cc-6e10d2dbeb7d",
   "metadata": {},
   "outputs": [
    {
     "data": {
      "text/plain": [
       "[2, 'Baba Ammar', False, 3, 5, 'Ammar', 'Codanics', 478, 53.2, False]"
      ]
     },
     "execution_count": 191,
     "metadata": {},
     "output_type": "execute_result"
    }
   ],
   "source": [
    "list1 + list2"
   ]
  },
  {
   "cell_type": "code",
   "execution_count": 193,
   "id": "37189620-e852-4749-bdf2-3da16f512740",
   "metadata": {},
   "outputs": [
    {
     "data": {
      "text/plain": [
       "[2, 'Baba Ammar', False, 2, 'Baba Ammar', False]"
      ]
     },
     "execution_count": 193,
     "metadata": {},
     "output_type": "execute_result"
    }
   ],
   "source": [
    "list1*2"
   ]
  },
  {
   "cell_type": "code",
   "execution_count": 199,
   "id": "b47f4489-d8bc-47b6-9e22-53b8266ea38e",
   "metadata": {},
   "outputs": [
    {
     "data": {
      "text/plain": [
       "[False, 'Baba Ammar', 2]"
      ]
     },
     "execution_count": 199,
     "metadata": {},
     "output_type": "execute_result"
    }
   ],
   "source": [
    "list1.reverse()\n",
    "list1"
   ]
  },
  {
   "cell_type": "code",
   "execution_count": 215,
   "id": "e95febe4-e51b-4512-8c1b-23acf47feef2",
   "metadata": {},
   "outputs": [
    {
     "data": {
      "text/plain": [
       "[False,\n",
       " 'Baba Ammar',\n",
       " 2,\n",
       " 'I am learning Python',\n",
       " 'I am learning Python',\n",
       " 'I am learning Python',\n",
       " 'I am learning Python',\n",
       " 'I am learning Python',\n",
       " 'I am learning Python',\n",
       " 'I am learning Python']"
      ]
     },
     "execution_count": 215,
     "metadata": {},
     "output_type": "execute_result"
    }
   ],
   "source": [
    "list1.append(\"I am learning Python\")\n",
    "list1"
   ]
  },
  {
   "cell_type": "code",
   "execution_count": 217,
   "id": "77b6a431-a715-4d97-a8fd-b99508ee7852",
   "metadata": {},
   "outputs": [
    {
     "data": {
      "text/plain": [
       "[20, 10, 15, 12, 19, 78]"
      ]
     },
     "execution_count": 217,
     "metadata": {},
     "output_type": "execute_result"
    }
   ],
   "source": [
    "list3= [20,10, 15,12, 19, 78]\n",
    "list3"
   ]
  },
  {
   "cell_type": "code",
   "execution_count": 219,
   "id": "a3aae1a0-6c30-4242-aa16-dea628816437",
   "metadata": {},
   "outputs": [
    {
     "data": {
      "text/plain": [
       "6"
      ]
     },
     "execution_count": 219,
     "metadata": {},
     "output_type": "execute_result"
    }
   ],
   "source": [
    "len(list3)"
   ]
  },
  {
   "cell_type": "code",
   "execution_count": 223,
   "id": "200a5bb8-585d-4af9-bbcc-f8ceab07ceec",
   "metadata": {},
   "outputs": [
    {
     "data": {
      "text/plain": [
       "[10, 12, 15, 19, 20, 78]"
      ]
     },
     "execution_count": 223,
     "metadata": {},
     "output_type": "execute_result"
    }
   ],
   "source": [
    "# sorting a list\n",
    "list3.sort()\n",
    "list3"
   ]
  },
  {
   "cell_type": "code",
   "execution_count": 225,
   "id": "da1f7c0a-0f74-43a5-bbec-602b0fbc7c62",
   "metadata": {},
   "outputs": [
    {
     "data": {
      "text/plain": [
       "[10, 12, 15, 19, 20, 78, 10, 12, 15, 19, 20, 78, 10, 12, 15, 19, 20, 78]"
      ]
     },
     "execution_count": 225,
     "metadata": {},
     "output_type": "execute_result"
    }
   ],
   "source": [
    "list3*3"
   ]
  },
  {
   "cell_type": "code",
   "execution_count": 229,
   "id": "030ebdd7-9577-451b-b898-3517d59c22ee",
   "metadata": {},
   "outputs": [
    {
     "data": {
      "text/plain": [
       "[False,\n",
       " 'Baba Ammar',\n",
       " 2,\n",
       " 'I am learning Python',\n",
       " 'I am learning Python',\n",
       " 'I am learning Python',\n",
       " 'I am learning Python',\n",
       " 'I am learning Python',\n",
       " 'I am learning Python',\n",
       " 'I am learning Python',\n",
       " 3,\n",
       " 5,\n",
       " 'Ammar',\n",
       " 'Codanics',\n",
       " 478,\n",
       " 53.2,\n",
       " False,\n",
       " 10,\n",
       " 12,\n",
       " 15,\n",
       " 19,\n",
       " 20,\n",
       " 78]"
      ]
     },
     "execution_count": 229,
     "metadata": {},
     "output_type": "execute_result"
    }
   ],
   "source": [
    "lists= list1 + list2 + list3\n",
    "lists"
   ]
  },
  {
   "cell_type": "markdown",
   "id": "5e5fdee0-963d-44f1-bb23-f0d123ac4324",
   "metadata": {},
   "source": [
    "## 3-Dictionaries\n",
    "\n",
    "- An un-ordered collection of elements\n",
    "- Key and value\n",
    "- curly braces or brackets {} are used\n",
    "- mutatable/changeable values"
   ]
  },
  {
   "cell_type": "code",
   "execution_count": 237,
   "id": "7010f686-0238-4476-b390-d30d4416cb04",
   "metadata": {},
   "outputs": [
    {
     "data": {
      "text/plain": [
       "{'Samosa': 30, 'Pakory': 100, 'Raita': 20, 'Salad': 50, 'Chicken Rolls': 30}"
      ]
     },
     "execution_count": 237,
     "metadata": {},
     "output_type": "execute_result"
    }
   ],
   "source": [
    "#Food and their prices\n",
    "food1 = {\"Samosa\":30, \"Pakory\": 100, \"Raita\": 20, \"Salad\": 50, \"Chicken Rolls\": 30}\n",
    "food1"
   ]
  },
  {
   "cell_type": "code",
   "execution_count": 239,
   "id": "9c47c04e-6a86-4c14-8351-92fab1fb389e",
   "metadata": {},
   "outputs": [
    {
     "data": {
      "text/plain": [
       "dict"
      ]
     },
     "execution_count": 239,
     "metadata": {},
     "output_type": "execute_result"
    }
   ],
   "source": [
    "type(food1)"
   ]
  },
  {
   "cell_type": "code",
   "execution_count": 241,
   "id": "c53b2b17-8a34-429a-bf18-35332ef7bc4b",
   "metadata": {},
   "outputs": [
    {
     "data": {
      "text/plain": [
       "dict_keys(['Samosa', 'Pakory', 'Raita', 'Salad', 'Chicken Rolls'])"
      ]
     },
     "execution_count": 241,
     "metadata": {},
     "output_type": "execute_result"
    }
   ],
   "source": [
    "#extract data\n",
    "keys1= food1.keys()\n",
    "keys1"
   ]
  },
  {
   "cell_type": "code",
   "execution_count": 245,
   "id": "b5e6c5e1-6ef4-4a81-9fd7-a0946c66534a",
   "metadata": {},
   "outputs": [
    {
     "data": {
      "text/plain": [
       "dict_values([30, 100, 20, 50, 30])"
      ]
     },
     "execution_count": 245,
     "metadata": {},
     "output_type": "execute_result"
    }
   ],
   "source": [
    "#extract values\n",
    "values1= food1.values()\n",
    "values1"
   ]
  },
  {
   "cell_type": "code",
   "execution_count": 247,
   "id": "de2b30ca-de3e-4467-a684-d875506bbd5c",
   "metadata": {},
   "outputs": [
    {
     "data": {
      "text/plain": [
       "{'Samosa': 30,\n",
       " 'Pakory': 100,\n",
       " 'Raita': 20,\n",
       " 'Salad': 50,\n",
       " 'Chicken Rolls': 30,\n",
       " 'Tikki': 10}"
      ]
     },
     "execution_count": 247,
     "metadata": {},
     "output_type": "execute_result"
    }
   ],
   "source": [
    "# adding new element\n",
    "food1[\"Tikki\"]=10\n",
    "food1"
   ]
  },
  {
   "cell_type": "code",
   "execution_count": 251,
   "id": "cd6bb043-74ab-4a6d-be55-32f2e003d4f6",
   "metadata": {},
   "outputs": [
    {
     "data": {
      "text/plain": [
       "{'Samosa': 30,\n",
       " 'Pakory': 100,\n",
       " 'Raita': 20,\n",
       " 'Salad': 50,\n",
       " 'Chicken Rolls': 30,\n",
       " 'Tikki': 15}"
      ]
     },
     "execution_count": 251,
     "metadata": {},
     "output_type": "execute_result"
    }
   ],
   "source": [
    "#update the values\n",
    "food1[\"Tikki\"]= 15\n",
    "food1"
   ]
  },
  {
   "cell_type": "code",
   "execution_count": 257,
   "id": "0c290273-4e73-4d47-812b-d57b78ba1471",
   "metadata": {},
   "outputs": [
    {
     "data": {
      "text/plain": [
       "{'Dates': 150, 'Chocolates': 200, 'Sawaiyan': 800}"
      ]
     },
     "execution_count": 257,
     "metadata": {},
     "output_type": "execute_result"
    }
   ],
   "source": [
    "food2= {\"Dates\": 150, \"Chocolates\": 200, \"Sawaiyan\": 800}\n",
    "food2"
   ]
  },
  {
   "cell_type": "code",
   "execution_count": 265,
   "id": "05841b67-5b1d-4cec-8c61-1ea346854efe",
   "metadata": {},
   "outputs": [
    {
     "data": {
      "text/plain": [
       "{'Samosa': 30,\n",
       " 'Pakory': 100,\n",
       " 'Raita': 20,\n",
       " 'Salad': 50,\n",
       " 'Chicken Rolls': 30,\n",
       " 'Tikki': 15,\n",
       " 'Dates': 150,\n",
       " 'Chocolates': 200,\n",
       " 'Sawaiyan': 800}"
      ]
     },
     "execution_count": 265,
     "metadata": {},
     "output_type": "execute_result"
    }
   ],
   "source": [
    "#concatinate dictionaries\n",
    "food1.update(food2)\n",
    "food1"
   ]
  },
  {
   "cell_type": "markdown",
   "id": "1cbb521a-42f0-4830-86a0-4f87f6aa1859",
   "metadata": {},
   "source": [
    "## 4- Set\n",
    "- Un-ordered and un-indexed\n",
    "- curly braces {} are used\n",
    "- no duplicates allowed\n",
    "- Boolean operators do not work in sets"
   ]
  },
  {
   "cell_type": "code",
   "execution_count": 293,
   "id": "507eec2f-e3c7-4f1d-80b2-fd7dd636dc46",
   "metadata": {
    "jupyter": {
     "source_hidden": true
    }
   },
   "outputs": [
    {
     "data": {
      "text/plain": [
       "{1, 2.2, 5.2, 'Ammar', 'Codanics', 'Faialabad'}"
      ]
     },
     "execution_count": 293,
     "metadata": {},
     "output_type": "execute_result"
    }
   ],
   "source": [
    "s1= {1, 2.2, 5.2, \"Ammar\", \"Codanics\", \"Faialabad\", True} \n",
    "s1"
   ]
  },
  {
   "cell_type": "code",
   "execution_count": 297,
   "id": "53ed011f-62ea-4ffe-996c-1c5e792a8a24",
   "metadata": {},
   "outputs": [],
   "source": [
    "s1.add(\"Inam\")"
   ]
  },
  {
   "cell_type": "code",
   "execution_count": 299,
   "id": "d6b268e5-b8f1-4e6d-ade9-05b026d7e113",
   "metadata": {},
   "outputs": [
    {
     "data": {
      "text/plain": [
       "{1, 2.2, 5.2, 'Ammar', 'Codanics', 'Faialabad', 'Inam'}"
      ]
     },
     "execution_count": 299,
     "metadata": {},
     "output_type": "execute_result"
    }
   ],
   "source": [
    "s1"
   ]
  },
  {
   "cell_type": "code",
   "execution_count": null,
   "id": "7aef4c80-31c2-40b9-9f1e-0144f466d0cb",
   "metadata": {},
   "outputs": [],
   "source": []
  }
 ],
 "metadata": {
  "kernelspec": {
   "display_name": "Python [conda env:base] *",
   "language": "python",
   "name": "conda-base-py"
  },
  "language_info": {
   "codemirror_mode": {
    "name": "ipython",
    "version": 3
   },
   "file_extension": ".py",
   "mimetype": "text/x-python",
   "name": "python",
   "nbconvert_exporter": "python",
   "pygments_lexer": "ipython3",
   "version": "3.12.7"
  }
 },
 "nbformat": 4,
 "nbformat_minor": 5
}
